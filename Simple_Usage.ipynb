{
 "cells": [
  {
   "cell_type": "code",
   "execution_count": 1,
   "id": "d99aa445",
   "metadata": {},
   "outputs": [],
   "source": [
    "import numpy as np\n",
    "import matplotlib.pyplot as plt\n",
    "\n",
    "import SSN_classes"
   ]
  },
  {
   "cell_type": "code",
   "execution_count": null,
   "id": "7317cf40",
   "metadata": {},
   "outputs": [],
   "source": [
    "# all parameters below are those used in Fig 1 and Fig2A of Ahmadian et al. 2013\n",
    "\n",
    "M = 52  # number of neurons in E or I populations (2013 paper had M = 180, but lower (but not too low) is also fine, and wouldn't really affect anything)\n",
    "L = 180  # length of the ring (180 degrees)\n",
    "\n",
    "sig_rec = 32 # in degrees, orientation tuning width of recurrent connections\n",
    "J_2x2 = np.array([[2.5, -1.3],[2.4, -1.0]]) * np.pi \n",
    "s_2x2 = np.ones((2,2)) * sig_rec\n",
    "\n",
    "# make SSN object\n",
    "ssn = SSN_classes.SSNHomogRing(n=2, k=0.04, tauE=20, tauI=10, \n",
    "                    J_2x2=J_2x2, s_2x2=s_2x2, Ne=M, L=L)\n",
    "\n",
    "# make external input vector\n",
    "sig_ffw = 30 # in degres, tuning width of external input \n",
    "thet1, thet2 = 45, 135 # orientations of the two gratings\n",
    "\n",
    "g = ssn.make_grating_input(ori_s=theta1, sig_EF=sig_ffw, gE=1, gI=1)\n",
    "\n",
    "c = 20 # contrast\n",
    "h = c * g\n",
    "\n",
    "# find fixed point\n",
    "r1, convg1 = ssn.fixed_point_r(h, verbose=False)"
   ]
  },
  {
   "cell_type": "code",
   "execution_count": null,
   "id": "2481b9a1",
   "metadata": {},
   "outputs": [],
   "source": []
  }
 ],
 "metadata": {
  "@webio": {
   "lastCommId": null,
   "lastKernelId": null
  },
  "kernelspec": {
   "display_name": "Python 3",
   "language": "python",
   "name": "python3"
  },
  "language_info": {
   "codemirror_mode": {
    "name": "ipython",
    "version": 3
   },
   "file_extension": ".py",
   "mimetype": "text/x-python",
   "name": "python",
   "nbconvert_exporter": "python",
   "pygments_lexer": "ipython3",
   "version": "3.8.10"
  }
 },
 "nbformat": 4,
 "nbformat_minor": 5
}
