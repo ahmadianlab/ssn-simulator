{
 "cells": [
  {
   "cell_type": "code",
   "execution_count": 1,
   "id": "d99aa445",
   "metadata": {},
   "outputs": [],
   "source": [
    "import numpy as np\n",
    "import matplotlib.pyplot as plt\n",
    "\n",
    "import SSN_classes"
   ]
  },
  {
   "cell_type": "markdown",
   "id": "8fa242ce-b8b0-4fc8-8a61-aaa6bedaf5e6",
   "metadata": {},
   "source": [
    "# Ring SSN of Ahmadian, Rubin and Miller, Neural Computation, 2013.\n",
    "all parameters below are those used in Fig 1 and Fig2A of Ahmadian et al. 2013"
   ]
  },
  {
   "cell_type": "code",
   "execution_count": 2,
   "id": "7317cf40",
   "metadata": {},
   "outputs": [],
   "source": [
    "M = 52  # number of neurons in E or I populations (2013 paper had M = 180, but lower (but not too much low) is also fine, and wouldn't really affect anything)\n",
    "L = 180  # length of the ring (180 degrees)\n",
    "\n",
    "J_2x2 = np.array([[2.5, -1.3],\n",
    "                  [2.4, -1.0]]) * np.pi \n",
    "s_2x2 = np.ones((2,2)) * 32 # in degrees, orientation tuning width of recurrent connections\n",
    "\n",
    "# make SSN object\n",
    "ssn = SSN_classes.SSNHomogRing(n=2, k=0.04, tauE=20, tauI=10, \n",
    "                               J_2x2=J_2x2, s_2x2=s_2x2, Ne=M, L=L)\n",
    "\n",
    "# make external input vector corresponding to a grating stimulus\n",
    "contrast = 20\n",
    "orientation = 45\n",
    "input = contrast * ssn.make_grating_input(ori_s=orientation,\n",
    "                                          sig_EF=30,  # in degrees, orientation tuning width of external input \n",
    "                                          gE=1,\n",
    "                                          gI=1)\n",
    "\n",
    "# find fixed point firing rates\n",
    "rates, convg = ssn.fixed_point_r(input, verbose=False)"
   ]
  },
  {
   "cell_type": "markdown",
   "id": "8e07fd0d-082e-4831-aec9-1e0cb0f8f368",
   "metadata": {},
   "source": [
    "# Retinotopic-map SSN of Holt, Miller, and Ahmadian, 2023\n",
    "This is (almost) the SSN in **Fig. 4** of the above paper.\n",
    "(Note, however, here I construct the single-synaptic-receptor-type SSN; to get the version of the model in the paper you have to use `SSN_classes.SSN2DTopoV1_AMPAGABA` and specify other parameters, including `ssn.tau_s`.)"
   ]
  },
  {
   "cell_type": "code",
   "execution_count": 3,
   "id": "2481b9a1",
   "metadata": {},
   "outputs": [],
   "source": [
    "grid_pars_dict = dict(gridsize_Nx=17,\n",
    "                      gridsize_deg=3.2,\n",
    "                      magnif_factor=2.,\n",
    "                      hyper_col=1e4)  # if you actually want to get an orientation map,\n",
    "                                      # a reasonable choice for `hyper_col` would be 0.8 to 1.0 mm\n",
    "\n",
    "psi = 0.774\n",
    "conn_pars = dict(J_2x2= np.array([[1.124, -0.931],\n",
    "                                  [1.049, -0.537]]) * np.pi * psi,\n",
    "                 s_2x2= np.array([[0.2955, 0.09],\n",
    "                                  [0.5542, 0.09]]), # in mm\n",
    "                 p_local= [0.72, 0.7],\n",
    "                 sigma_oris= 45,\n",
    "                 PERIODIC= False,\n",
    "                 CellWiseNormalized=True)\n",
    "\n",
    "# make SSN object\n",
    "ssn = SSN_classes.SSN2DTopoV1(n=2,\n",
    "                              k=0.04,\n",
    "                              tauE=20,\n",
    "                              tauI=10, \n",
    "                              grid_pars=grid_pars_dict,\n",
    "                              conn_pars=conn_pars)\n",
    "\n",
    "# make feedforward input vector for a grating stimulus\n",
    "contrast = 50\n",
    "radius = 0.75\n",
    "orientation = ssn.ori_map[tuple(ssn.xys2Emapinds())]\n",
    "input_pars = {'gE' : 0.481,\n",
    "              'gI' : 0.226,\n",
    "             'sig_ori_EF': 32,\n",
    "             'sig_ori_IF': 32,\n",
    "             'sigma_RF': 0.04}\n",
    "\n",
    "input = contrast * ssn.make_grating_input(radius, ori_s=orientation,\n",
    "                                          **input_pars)\n",
    "\n",
    "# find fixed point firing rates\n",
    "rates, convg = ssn.fixed_point_r(input, verbose=False)"
   ]
  },
  {
   "cell_type": "markdown",
   "id": "a5316306-ac2d-4ce7-af2f-87c82f0960ec",
   "metadata": {},
   "source": [
    "For **Fig. 6** of the above paper, replace `conn_pars` and `inpur_pars` according to:"
   ]
  },
  {
   "cell_type": "code",
   "execution_count": 4,
   "id": "343eea47-cc38-475e-9681-ef87ed191b3b",
   "metadata": {},
   "outputs": [],
   "source": [
    "conn_pars = dict(J_2x2= np.array([[1.495, -1.034],\n",
    "                                  [1.110, -0.517]]) * np.pi * psi,\n",
    "                 s_2x2= np.array([[0.2654, 0.09],\n",
    "                                  [0.2940, 0.09]]), # in mm\n",
    "                 p_local= [0., 0.],\n",
    "                 sigma_oris= 45,\n",
    "                 PERIODIC= False,\n",
    "                 CellWiseNormalized=True)\n",
    "\n",
    "input_pars = {'gE' : 0.476,\n",
    "              'gI' : 0.232,\n",
    "             'sig_ori_EF': 32,\n",
    "             'sig_ori_IF': 32,\n",
    "             'sigma_RF': 0.04}"
   ]
  }
 ],
 "metadata": {
  "@webio": {
   "lastCommId": null,
   "lastKernelId": null
  },
  "kernelspec": {
   "display_name": "Python 3 (ipykernel)",
   "language": "python",
   "name": "python3"
  },
  "language_info": {
   "codemirror_mode": {
    "name": "ipython",
    "version": 3
   },
   "file_extension": ".py",
   "mimetype": "text/x-python",
   "name": "python",
   "nbconvert_exporter": "python",
   "pygments_lexer": "ipython3",
   "version": "3.10.13"
  }
 },
 "nbformat": 4,
 "nbformat_minor": 5
}
